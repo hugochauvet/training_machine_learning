{
 "cells": [
  {
   "cell_type": "markdown",
   "id": "f4a3b04d",
   "metadata": {},
   "source": [
    "# Machine Learning on Titanic dataset"
   ]
  },
  {
   "cell_type": "markdown",
   "id": "ede7f945",
   "metadata": {},
   "source": [
    "## Project objective\n",
    "\n",
    "Create supervised models to predict the survival of the titanic's population. <br>\n",
    "Data : https://www.kaggle.com/c/titanic"
   ]
  },
  {
   "cell_type": "markdown",
   "id": "9c22b846",
   "metadata": {},
   "source": [
    "## Program"
   ]
  },
  {
   "cell_type": "markdown",
   "id": "5ae41e52",
   "metadata": {},
   "source": [
    "### Library"
   ]
  },
  {
   "cell_type": "code",
   "execution_count": 1,
   "id": "d145ec24",
   "metadata": {},
   "outputs": [],
   "source": [
    "import pandas as pd\n",
    "import seaborn as sns\n",
    "from sklearn.preprocessing import LabelEncoder\n",
    "from sklearn.model_selection import train_test_split\n",
    "from sklearn.svm import SVC\n",
    "from sklearn.ensemble import RandomForestClassifier\n",
    "from sklearn.metrics import accuracy_score\n",
    "import matplotlib.pyplot as plt"
   ]
  },
  {
   "cell_type": "markdown",
   "id": "65a960fa",
   "metadata": {},
   "source": [
    "### Data import"
   ]
  },
  {
   "cell_type": "code",
   "execution_count": 2,
   "id": "107f0078",
   "metadata": {},
   "outputs": [],
   "source": [
    "df_titanic = pd.read_csv(\"C:/Users/33638/Documents/Github/training_machine_learning/titanic.csv\")"
   ]
  },
  {
   "cell_type": "markdown",
   "id": "3773d9c7",
   "metadata": {},
   "source": [
    "### Data presentation"
   ]
  },
  {
   "cell_type": "code",
   "execution_count": 3,
   "id": "30a38278",
   "metadata": {},
   "outputs": [
    {
     "data": {
      "text/html": [
       "<div>\n",
       "<style scoped>\n",
       "    .dataframe tbody tr th:only-of-type {\n",
       "        vertical-align: middle;\n",
       "    }\n",
       "\n",
       "    .dataframe tbody tr th {\n",
       "        vertical-align: top;\n",
       "    }\n",
       "\n",
       "    .dataframe thead th {\n",
       "        text-align: right;\n",
       "    }\n",
       "</style>\n",
       "<table border=\"1\" class=\"dataframe\">\n",
       "  <thead>\n",
       "    <tr style=\"text-align: right;\">\n",
       "      <th></th>\n",
       "      <th>PassengerId</th>\n",
       "      <th>Survived</th>\n",
       "      <th>Pclass</th>\n",
       "      <th>Name</th>\n",
       "      <th>Sex</th>\n",
       "      <th>Age</th>\n",
       "      <th>SibSp</th>\n",
       "      <th>Parch</th>\n",
       "      <th>Ticket</th>\n",
       "      <th>Fare</th>\n",
       "      <th>Cabin</th>\n",
       "      <th>Embarked</th>\n",
       "    </tr>\n",
       "  </thead>\n",
       "  <tbody>\n",
       "    <tr>\n",
       "      <th>0</th>\n",
       "      <td>1</td>\n",
       "      <td>0</td>\n",
       "      <td>3</td>\n",
       "      <td>Braund, Mr. Owen Harris</td>\n",
       "      <td>male</td>\n",
       "      <td>22.0</td>\n",
       "      <td>1</td>\n",
       "      <td>0</td>\n",
       "      <td>A/5 21171</td>\n",
       "      <td>7.2500</td>\n",
       "      <td>NaN</td>\n",
       "      <td>S</td>\n",
       "    </tr>\n",
       "    <tr>\n",
       "      <th>1</th>\n",
       "      <td>2</td>\n",
       "      <td>1</td>\n",
       "      <td>1</td>\n",
       "      <td>Cumings, Mrs. John Bradley (Florence Briggs Th...</td>\n",
       "      <td>female</td>\n",
       "      <td>38.0</td>\n",
       "      <td>1</td>\n",
       "      <td>0</td>\n",
       "      <td>PC 17599</td>\n",
       "      <td>71.2833</td>\n",
       "      <td>C85</td>\n",
       "      <td>C</td>\n",
       "    </tr>\n",
       "    <tr>\n",
       "      <th>2</th>\n",
       "      <td>3</td>\n",
       "      <td>1</td>\n",
       "      <td>3</td>\n",
       "      <td>Heikkinen, Miss. Laina</td>\n",
       "      <td>female</td>\n",
       "      <td>26.0</td>\n",
       "      <td>0</td>\n",
       "      <td>0</td>\n",
       "      <td>STON/O2. 3101282</td>\n",
       "      <td>7.9250</td>\n",
       "      <td>NaN</td>\n",
       "      <td>S</td>\n",
       "    </tr>\n",
       "    <tr>\n",
       "      <th>3</th>\n",
       "      <td>4</td>\n",
       "      <td>1</td>\n",
       "      <td>1</td>\n",
       "      <td>Futrelle, Mrs. Jacques Heath (Lily May Peel)</td>\n",
       "      <td>female</td>\n",
       "      <td>35.0</td>\n",
       "      <td>1</td>\n",
       "      <td>0</td>\n",
       "      <td>113803</td>\n",
       "      <td>53.1000</td>\n",
       "      <td>C123</td>\n",
       "      <td>S</td>\n",
       "    </tr>\n",
       "    <tr>\n",
       "      <th>4</th>\n",
       "      <td>5</td>\n",
       "      <td>0</td>\n",
       "      <td>3</td>\n",
       "      <td>Allen, Mr. William Henry</td>\n",
       "      <td>male</td>\n",
       "      <td>35.0</td>\n",
       "      <td>0</td>\n",
       "      <td>0</td>\n",
       "      <td>373450</td>\n",
       "      <td>8.0500</td>\n",
       "      <td>NaN</td>\n",
       "      <td>S</td>\n",
       "    </tr>\n",
       "  </tbody>\n",
       "</table>\n",
       "</div>"
      ],
      "text/plain": [
       "   PassengerId  Survived  Pclass  \\\n",
       "0            1         0       3   \n",
       "1            2         1       1   \n",
       "2            3         1       3   \n",
       "3            4         1       1   \n",
       "4            5         0       3   \n",
       "\n",
       "                                                Name     Sex   Age  SibSp  \\\n",
       "0                            Braund, Mr. Owen Harris    male  22.0      1   \n",
       "1  Cumings, Mrs. John Bradley (Florence Briggs Th...  female  38.0      1   \n",
       "2                             Heikkinen, Miss. Laina  female  26.0      0   \n",
       "3       Futrelle, Mrs. Jacques Heath (Lily May Peel)  female  35.0      1   \n",
       "4                           Allen, Mr. William Henry    male  35.0      0   \n",
       "\n",
       "   Parch            Ticket     Fare Cabin Embarked  \n",
       "0      0         A/5 21171   7.2500   NaN        S  \n",
       "1      0          PC 17599  71.2833   C85        C  \n",
       "2      0  STON/O2. 3101282   7.9250   NaN        S  \n",
       "3      0            113803  53.1000  C123        S  \n",
       "4      0            373450   8.0500   NaN        S  "
      ]
     },
     "execution_count": 3,
     "metadata": {},
     "output_type": "execute_result"
    }
   ],
   "source": [
    "df_titanic.head()"
   ]
  },
  {
   "cell_type": "markdown",
   "id": "2212bc5b",
   "metadata": {},
   "source": [
    "### Preprocessing"
   ]
  },
  {
   "cell_type": "code",
   "execution_count": 4,
   "id": "9b548683",
   "metadata": {},
   "outputs": [],
   "source": [
    "# Encoding sex variable\n",
    "df_titanic['Sex'] = LabelEncoder().fit_transform(df_titanic['Sex'])\n",
    "# Encoding embarked variable\n",
    "df_titanic['Embarked'] = LabelEncoder().fit_transform(df_titanic['Embarked'])\n",
    "# Replace NAN in Age variable by the mean\n",
    "df_titanic['Age'] = df_titanic['Age'].fillna(df_titanic['Age'].mean())\n",
    "# Delete rowwith NAN\n",
    "df_titanic = df_titanic.dropna().reset_index(drop=True)"
   ]
  },
  {
   "cell_type": "markdown",
   "id": "baa77827",
   "metadata": {},
   "source": [
    "### Create training and test sets"
   ]
  },
  {
   "cell_type": "code",
   "execution_count": 5,
   "id": "eeacb119",
   "metadata": {},
   "outputs": [],
   "source": [
    "# Variable to predict\n",
    "Y = df_titanic[\"Survived\"]\n",
    "# Delete variables for our models\n",
    "X = df_titanic.drop([\"Survived\", \"Name\", \"Ticket\", \"Cabin\", \"Embarked\",\"Pclass\",\"SibSp\",\"Parch\",\"PassengerId\"], axis = 1)\n",
    "\n",
    "# Create sets\n",
    "X_train, X_test, y_train, y_test = train_test_split(X, Y, test_size=0.33)"
   ]
  },
  {
   "cell_type": "markdown",
   "id": "cf71f2a7",
   "metadata": {},
   "source": [
    "### Select classification models"
   ]
  },
  {
   "cell_type": "code",
   "execution_count": 6,
   "id": "9fff760e",
   "metadata": {},
   "outputs": [
    {
     "data": {
      "text/plain": [
       "RandomForestClassifier(max_depth=3, random_state=0)"
      ]
     },
     "execution_count": 6,
     "metadata": {},
     "output_type": "execute_result"
    }
   ],
   "source": [
    "# SVC\n",
    "modelRbf_titanic = SVC(kernel=\"rbf\")\n",
    "modelRbf_titanic.fit(X_train,y_train)\n",
    "# Random forest\n",
    "modelForest_titanic = RandomForestClassifier(max_depth = 3, random_state = 0)\n",
    "modelForest_titanic.fit(X_train, y_train)"
   ]
  },
  {
   "cell_type": "markdown",
   "id": "a9566391",
   "metadata": {},
   "source": [
    "### Fit our models"
   ]
  },
  {
   "cell_type": "code",
   "execution_count": 7,
   "id": "ada13e3a",
   "metadata": {},
   "outputs": [],
   "source": [
    "y_Fit_svc = modelRbf_titanic.predict(X_test)\n",
    "y_Fit_forest = modelForest_titanic.predict(X_test)"
   ]
  },
  {
   "cell_type": "markdown",
   "id": "87ecc893",
   "metadata": {},
   "source": [
    "### Models accuracy score"
   ]
  },
  {
   "cell_type": "code",
   "execution_count": 8,
   "id": "c53e6961",
   "metadata": {},
   "outputs": [
    {
     "name": "stdout",
     "output_type": "stream",
     "text": [
      "Test accuracy SVC :  0.6764705882352942\n",
      "Test accuracy Forest :  0.7941176470588235\n"
     ]
    }
   ],
   "source": [
    "print(\"Test accuracy SVC : \", accuracy_score(y_test, y_Fit_svc))\n",
    "print(\"Test accuracy Forest : \", accuracy_score(y_test, y_Fit_forest))"
   ]
  },
  {
   "cell_type": "markdown",
   "id": "716483c3",
   "metadata": {},
   "source": [
    "### Importance of variables in models"
   ]
  },
  {
   "cell_type": "code",
   "execution_count": 9,
   "id": "7ed8eddf",
   "metadata": {},
   "outputs": [
    {
     "data": {
      "text/plain": [
       "Text(0, 0.5, 'Importances')"
      ]
     },
     "execution_count": 9,
     "metadata": {},
     "output_type": "execute_result"
    },
    {
     "data": {
      "image/png": "[encoded data removed]",
      "text/plain": [
       "<Figure size 432x288 with 1 Axes>"
      ]
     },
     "metadata": {
      "needs_background": "light"
     },
     "output_type": "display_data"
    }
   ],
   "source": [
    "importances = modelForest_titanic.feature_importances_\n",
    "feature_names = X_test.columns.values.tolist()\n",
    "\n",
    "forest_importances = pd.Series(importances, index=feature_names)\n",
    "forest_importances.plot.bar()\n",
    "plt.title(\"Feature importances using Random Forest\")\n",
    "plt.ylabel(\"Importances\")"
   ]
  }
 ],
 "metadata": {
  "kernelspec": {
   "display_name": "Python 3",
   "language": "python",
   "name": "python3"
  },
  "language_info": {
   "codemirror_mode": {
    "name": "ipython",
    "version": 3
   },
   "file_extension": ".py",
   "mimetype": "text/x-python",
   "name": "python",
   "nbconvert_exporter": "python",
   "pygments_lexer": "ipython3",
   "version": "3.8.8"
  }
 },
 "nbformat": 4,
 "nbformat_minor": 5
}
